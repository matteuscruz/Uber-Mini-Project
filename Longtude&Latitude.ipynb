{
  "nbformat": 4,
  "nbformat_minor": 0,
  "metadata": {
    "colab": {
      "provenance": [],
      "authorship_tag": "ABX9TyPote63lR86gY9EA1W9tjpd",
      "include_colab_link": true
    },
    "kernelspec": {
      "name": "python3",
      "display_name": "Python 3"
    },
    "language_info": {
      "name": "python"
    }
  },
  "cells": [
    {
      "cell_type": "markdown",
      "metadata": {
        "id": "view-in-github",
        "colab_type": "text"
      },
      "source": [
        "<a href=\"https://colab.research.google.com/github/matteuscruz/Uber-Mini-Project/blob/main/Longtude%26Latitude.ipynb\" target=\"_parent\"><img src=\"https://colab.research.google.com/assets/colab-badge.svg\" alt=\"Open In Colab\"/></a>"
      ]
    },
    {
      "cell_type": "code",
      "execution_count": 1,
      "metadata": {
        "colab": {
          "base_uri": "https://localhost:8080/"
        },
        "id": "jIB-UWbHy_Od",
        "outputId": "a73bb9ad-72ab-4c36-9169-aaf8e317464a"
      },
      "outputs": [
        {
          "output_type": "stream",
          "name": "stdout",
          "text": [
            "A distância entre os dois pontos é: 3.270290988965543 milhas\n"
          ]
        }
      ],
      "source": [
        "from math import radians, sin, cos, sqrt, atan2\n",
        "\n",
        "def haversine(lat1, lon1, lat2, lon2):\n",
        "    R = 3958.8  # Raio da Terra em milhas\n",
        "\n",
        "    # Converte coordenadas de graus para radianos\n",
        "    lat1 = radians(lat1)\n",
        "    lon1 = radians(lon1)\n",
        "    lat2 = radians(lat2)\n",
        "    lon2 = radians(lon2)\n",
        "\n",
        "    # Diferença de latitude e longitude\n",
        "    dlat = lat2 - lat1\n",
        "    dlon = lon2 - lon1\n",
        "\n",
        "    # Fórmula de Haversine\n",
        "    a = sin(dlat / 2)**2 + cos(lat1) * cos(lat2) * sin(dlon / 2)**2\n",
        "    c = 2 * atan2(sqrt(a), sqrt(1 - a))\n",
        "\n",
        "    # Distância em milhas\n",
        "    distance = R * c\n",
        "    return distance\n",
        "\n",
        "# Coordenadas do Local 1\n",
        "lat1 = 40.758896\n",
        "lon1 = -73.985130\n",
        "\n",
        "# Coordenadas do Local 2\n",
        "lat2 = 40.8022\n",
        "lon2 = -73.9599\n",
        "\n",
        "# Calcula a distância\n",
        "distance = haversine(lat1, lon1, lat2, lon2)\n",
        "print(\"A distância entre os dois pontos é:\", distance, \"milhas\")\n"
      ]
    },
    {
      "cell_type": "code",
      "source": [],
      "metadata": {
        "id": "PiaNFxvKzAtS"
      },
      "execution_count": null,
      "outputs": []
    }
  ]
}